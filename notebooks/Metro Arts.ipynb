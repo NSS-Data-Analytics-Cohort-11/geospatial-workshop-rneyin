{
 "cells": [
  {
   "cell_type": "code",
   "execution_count": 1,
   "id": "af8747cc",
   "metadata": {},
   "outputs": [],
   "source": [
    "import pandas as pd\n",
    "import geopandas as gpd\n",
    "import matplotlib.pyplot as plt\n",
    "import folium\n",
    "from folium.plugins import MarkerCluster\n",
    "from folium.plugins import FastMarkerCluster"
   ]
  },
  {
   "cell_type": "code",
   "execution_count": 2,
   "id": "15c578b3",
   "metadata": {},
   "outputs": [
    {
     "name": "stdout",
     "output_type": "stream",
     "text": [
      "EPSG:4326\n"
     ]
    },
    {
     "data": {
      "text/html": [
       "<div>\n",
       "<style scoped>\n",
       "    .dataframe tbody tr th:only-of-type {\n",
       "        vertical-align: middle;\n",
       "    }\n",
       "\n",
       "    .dataframe tbody tr th {\n",
       "        vertical-align: top;\n",
       "    }\n",
       "\n",
       "    .dataframe thead th {\n",
       "        text-align: right;\n",
       "    }\n",
       "</style>\n",
       "<table border=\"1\" class=\"dataframe\">\n",
       "  <thead>\n",
       "    <tr style=\"text-align: right;\">\n",
       "      <th></th>\n",
       "      <th>first_name</th>\n",
       "      <th>location</th>\n",
       "      <th>project_status</th>\n",
       "      <th>latitude</th>\n",
       "      <th>description</th>\n",
       "      <th>medium</th>\n",
       "      <th>longitude</th>\n",
       "      <th>last_name</th>\n",
       "      <th>page_link</th>\n",
       "      <th>artwork</th>\n",
       "      <th>geometry</th>\n",
       "    </tr>\n",
       "  </thead>\n",
       "  <tbody>\n",
       "    <tr>\n",
       "      <th>0</th>\n",
       "      <td>Seth</td>\n",
       "      <td>Shelby Street Pedestrian Bridge</td>\n",
       "      <td>Complete</td>\n",
       "      <td>36.164314</td>\n",
       "      <td>None</td>\n",
       "      <td>tube steel</td>\n",
       "      <td>-86.76936</td>\n",
       "      <td>Conley</td>\n",
       "      <td>https://www.metroartsnashville.com/fullscreen-...</td>\n",
       "      <td>The Riders</td>\n",
       "      <td>POINT (-86.76936 36.16431)</td>\n",
       "    </tr>\n",
       "    <tr>\n",
       "      <th>1</th>\n",
       "      <td>Ric</td>\n",
       "      <td>Richard H. Fulton Complex</td>\n",
       "      <td>Complete</td>\n",
       "      <td>36.153346</td>\n",
       "      <td>None</td>\n",
       "      <td>powder coated steel</td>\n",
       "      <td>-86.768642</td>\n",
       "      <td>Howse</td>\n",
       "      <td>https://www.metroartsnashville.com/fullscreen-...</td>\n",
       "      <td>Banjo</td>\n",
       "      <td>POINT (-86.76864 36.15335)</td>\n",
       "    </tr>\n",
       "    <tr>\n",
       "      <th>2</th>\n",
       "      <td>Katherine</td>\n",
       "      <td>Metro Office Building</td>\n",
       "      <td>Complete</td>\n",
       "      <td>36.153121</td>\n",
       "      <td>This body of work focuses on transitions in th...</td>\n",
       "      <td>mixed media on panel</td>\n",
       "      <td>-86.768797</td>\n",
       "      <td>Krebs</td>\n",
       "      <td>https://www.metroartsnashville.com/fullscreen-...</td>\n",
       "      <td>Divine Channel</td>\n",
       "      <td>POINT (-86.76880 36.15312)</td>\n",
       "    </tr>\n",
       "    <tr>\n",
       "      <th>3</th>\n",
       "      <td>Wayne</td>\n",
       "      <td>21st Ave. and Broadway</td>\n",
       "      <td>Complete</td>\n",
       "      <td>36.148329</td>\n",
       "      <td>None</td>\n",
       "      <td>powder coated stainless steel, stainless steel...</td>\n",
       "      <td>-86.799705</td>\n",
       "      <td>Henderson</td>\n",
       "      <td>https://www.metroartsnashville.com/fullscreen-...</td>\n",
       "      <td>Good Eats</td>\n",
       "      <td>POINT (-86.79971 36.14833)</td>\n",
       "    </tr>\n",
       "    <tr>\n",
       "      <th>4</th>\n",
       "      <td>Michael J.</td>\n",
       "      <td>Historic Metro Courthouse</td>\n",
       "      <td>Complete</td>\n",
       "      <td>36.166747</td>\n",
       "      <td>Created during a live painting exhibition, thi...</td>\n",
       "      <td>acrylic on canvas</td>\n",
       "      <td>-86.778286</td>\n",
       "      <td>McBride</td>\n",
       "      <td>https://www.metroartsnashville.com/fullscreen-...</td>\n",
       "      <td>Dancing  in the Streets of Music City</td>\n",
       "      <td>POINT (-86.77829 36.16675)</td>\n",
       "    </tr>\n",
       "  </tbody>\n",
       "</table>\n",
       "</div>"
      ],
      "text/plain": [
       "   first_name                         location project_status   latitude  \\\n",
       "0        Seth  Shelby Street Pedestrian Bridge       Complete  36.164314   \n",
       "1         Ric        Richard H. Fulton Complex       Complete  36.153346   \n",
       "2   Katherine            Metro Office Building       Complete  36.153121   \n",
       "3       Wayne           21st Ave. and Broadway       Complete  36.148329   \n",
       "4  Michael J.        Historic Metro Courthouse       Complete  36.166747   \n",
       "\n",
       "                                         description  \\\n",
       "0                                               None   \n",
       "1                                               None   \n",
       "2  This body of work focuses on transitions in th...   \n",
       "3                                               None   \n",
       "4  Created during a live painting exhibition, thi...   \n",
       "\n",
       "                                              medium   longitude  last_name  \\\n",
       "0                                         tube steel   -86.76936     Conley   \n",
       "1                                powder coated steel  -86.768642      Howse   \n",
       "2                               mixed media on panel  -86.768797      Krebs   \n",
       "3  powder coated stainless steel, stainless steel...  -86.799705  Henderson   \n",
       "4                                  acrylic on canvas  -86.778286    McBride   \n",
       "\n",
       "                                           page_link  \\\n",
       "0  https://www.metroartsnashville.com/fullscreen-...   \n",
       "1  https://www.metroartsnashville.com/fullscreen-...   \n",
       "2  https://www.metroartsnashville.com/fullscreen-...   \n",
       "3  https://www.metroartsnashville.com/fullscreen-...   \n",
       "4  https://www.metroartsnashville.com/fullscreen-...   \n",
       "\n",
       "                                 artwork                    geometry  \n",
       "0                             The Riders  POINT (-86.76936 36.16431)  \n",
       "1                                  Banjo  POINT (-86.76864 36.15335)  \n",
       "2                         Divine Channel  POINT (-86.76880 36.15312)  \n",
       "3                              Good Eats  POINT (-86.79971 36.14833)  \n",
       "4  Dancing  in the Streets of Music City  POINT (-86.77829 36.16675)  "
      ]
     },
     "execution_count": 2,
     "metadata": {},
     "output_type": "execute_result"
    }
   ],
   "source": [
    "publicart = gpd.read_file('../data/Metro Arts Public Artwork_20240413.geojson')\n",
    "print(publicart.crs)\n",
    "publicart.head()\n",
    "#type(publicart)"
   ]
  },
  {
   "cell_type": "code",
   "execution_count": 3,
   "id": "052b5f38",
   "metadata": {},
   "outputs": [
    {
     "name": "stdout",
     "output_type": "stream",
     "text": [
      "EPSG:4326\n"
     ]
    },
    {
     "data": {
      "text/html": [
       "<div>\n",
       "<style scoped>\n",
       "    .dataframe tbody tr th:only-of-type {\n",
       "        vertical-align: middle;\n",
       "    }\n",
       "\n",
       "    .dataframe tbody tr th {\n",
       "        vertical-align: top;\n",
       "    }\n",
       "\n",
       "    .dataframe thead th {\n",
       "        text-align: right;\n",
       "    }\n",
       "</style>\n",
       "<table border=\"1\" class=\"dataframe\">\n",
       "  <thead>\n",
       "    <tr style=\"text-align: right;\">\n",
       "      <th></th>\n",
       "      <th>zip</th>\n",
       "      <th>objectid</th>\n",
       "      <th>po_name</th>\n",
       "      <th>shape_stlength</th>\n",
       "      <th>shape_starea</th>\n",
       "      <th>geometry</th>\n",
       "    </tr>\n",
       "  </thead>\n",
       "  <tbody>\n",
       "    <tr>\n",
       "      <th>0</th>\n",
       "      <td>37115</td>\n",
       "      <td>1</td>\n",
       "      <td>MADISON</td>\n",
       "      <td>178783.02488886821</td>\n",
       "      <td>596553400.57885742</td>\n",
       "      <td>MULTIPOLYGON (((-86.68725 36.31821, -86.68722 ...</td>\n",
       "    </tr>\n",
       "    <tr>\n",
       "      <th>1</th>\n",
       "      <td>37216</td>\n",
       "      <td>3</td>\n",
       "      <td>NASHVILLE</td>\n",
       "      <td>75820.997821400058</td>\n",
       "      <td>188884682.28344727</td>\n",
       "      <td>MULTIPOLYGON (((-86.73451 36.23774, -86.73425 ...</td>\n",
       "    </tr>\n",
       "    <tr>\n",
       "      <th>2</th>\n",
       "      <td>37204</td>\n",
       "      <td>9</td>\n",
       "      <td>NASHVILLE</td>\n",
       "      <td>93180.292250425613</td>\n",
       "      <td>200664795.51708984</td>\n",
       "      <td>MULTIPOLYGON (((-86.77914 36.13424, -86.77923 ...</td>\n",
       "    </tr>\n",
       "    <tr>\n",
       "      <th>3</th>\n",
       "      <td>37027</td>\n",
       "      <td>11</td>\n",
       "      <td>BRENTWOOD</td>\n",
       "      <td>159760.6942933173</td>\n",
       "      <td>174978422.04101562</td>\n",
       "      <td>MULTIPOLYGON (((-86.81258 36.06319, -86.81263 ...</td>\n",
       "    </tr>\n",
       "    <tr>\n",
       "      <th>4</th>\n",
       "      <td>37064</td>\n",
       "      <td>18</td>\n",
       "      <td>FRANKLIN</td>\n",
       "      <td>28995.828320601937</td>\n",
       "      <td>46969608.005737305</td>\n",
       "      <td>MULTIPOLYGON (((-87.02197 36.01200, -87.02140 ...</td>\n",
       "    </tr>\n",
       "  </tbody>\n",
       "</table>\n",
       "</div>"
      ],
      "text/plain": [
       "     zip objectid    po_name      shape_stlength        shape_starea  \\\n",
       "0  37115        1    MADISON  178783.02488886821  596553400.57885742   \n",
       "1  37216        3  NASHVILLE  75820.997821400058  188884682.28344727   \n",
       "2  37204        9  NASHVILLE  93180.292250425613  200664795.51708984   \n",
       "3  37027       11  BRENTWOOD   159760.6942933173  174978422.04101562   \n",
       "4  37064       18   FRANKLIN  28995.828320601937  46969608.005737305   \n",
       "\n",
       "                                            geometry  \n",
       "0  MULTIPOLYGON (((-86.68725 36.31821, -86.68722 ...  \n",
       "1  MULTIPOLYGON (((-86.73451 36.23774, -86.73425 ...  \n",
       "2  MULTIPOLYGON (((-86.77914 36.13424, -86.77923 ...  \n",
       "3  MULTIPOLYGON (((-86.81258 36.06319, -86.81263 ...  \n",
       "4  MULTIPOLYGON (((-87.02197 36.01200, -87.02140 ...  "
      ]
     },
     "execution_count": 3,
     "metadata": {},
     "output_type": "execute_result"
    }
   ],
   "source": [
    "zipcodes = gpd.read_file('../data/zipcodes.geojson')\n",
    "print(zipcodes.crs)\n",
    "zipcodes.head( )"
   ]
  },
  {
   "cell_type": "code",
   "execution_count": 4,
   "id": "e612ccb4",
   "metadata": {},
   "outputs": [
    {
     "data": {
      "text/plain": [
       "<Axes: >"
      ]
     },
     "execution_count": 4,
     "metadata": {},
     "output_type": "execute_result"
    },
    {
     "data": {
      "image/png": "[encoded data removed]",
      "text/plain": [
       "<Figure size 640x480 with 1 Axes>"
      ]
     },
     "metadata": {},
     "output_type": "display_data"
    }
   ],
   "source": [
    "zipcodes.plot()"
   ]
  },
  {
   "cell_type": "code",
   "execution_count": 15,
   "id": "7dfd8000",
   "metadata": {},
   "outputs": [
    {
     "data": {
      "text/html": [
       "<div>\n",
       "<style scoped>\n",
       "    .dataframe tbody tr th:only-of-type {\n",
       "        vertical-align: middle;\n",
       "    }\n",
       "\n",
       "    .dataframe tbody tr th {\n",
       "        vertical-align: top;\n",
       "    }\n",
       "\n",
       "    .dataframe thead th {\n",
       "        text-align: right;\n",
       "    }\n",
       "</style>\n",
       "<table border=\"1\" class=\"dataframe\">\n",
       "  <thead>\n",
       "    <tr style=\"text-align: right;\">\n",
       "      <th></th>\n",
       "      <th>first_name</th>\n",
       "      <th>location</th>\n",
       "      <th>project_status</th>\n",
       "      <th>latitude</th>\n",
       "      <th>description</th>\n",
       "      <th>medium</th>\n",
       "      <th>longitude</th>\n",
       "      <th>last_name</th>\n",
       "      <th>page_link</th>\n",
       "      <th>artwork</th>\n",
       "      <th>geometry</th>\n",
       "      <th>index_right</th>\n",
       "      <th>zip</th>\n",
       "      <th>objectid</th>\n",
       "      <th>po_name</th>\n",
       "      <th>shape_stlength</th>\n",
       "      <th>shape_starea</th>\n",
       "    </tr>\n",
       "  </thead>\n",
       "  <tbody>\n",
       "    <tr>\n",
       "      <th>0</th>\n",
       "      <td>Seth</td>\n",
       "      <td>Shelby Street Pedestrian Bridge</td>\n",
       "      <td>Complete</td>\n",
       "      <td>36.164314</td>\n",
       "      <td>None</td>\n",
       "      <td>tube steel</td>\n",
       "      <td>-86.76936</td>\n",
       "      <td>Conley</td>\n",
       "      <td>https://www.metroartsnashville.com/fullscreen-...</td>\n",
       "      <td>The Riders</td>\n",
       "      <td>POINT (-86.76936 36.16431)</td>\n",
       "      <td>31</td>\n",
       "      <td>37213</td>\n",
       "      <td>4</td>\n",
       "      <td>NASHVILLE</td>\n",
       "      <td>30678.541831175633</td>\n",
       "      <td>23392261.943359375</td>\n",
       "    </tr>\n",
       "    <tr>\n",
       "      <th>1</th>\n",
       "      <td>Ric</td>\n",
       "      <td>Richard H. Fulton Complex</td>\n",
       "      <td>Complete</td>\n",
       "      <td>36.153346</td>\n",
       "      <td>None</td>\n",
       "      <td>powder coated steel</td>\n",
       "      <td>-86.768642</td>\n",
       "      <td>Howse</td>\n",
       "      <td>https://www.metroartsnashville.com/fullscreen-...</td>\n",
       "      <td>Banjo</td>\n",
       "      <td>POINT (-86.76864 36.15335)</td>\n",
       "      <td>47</td>\n",
       "      <td>37210</td>\n",
       "      <td>12</td>\n",
       "      <td>NASHVILLE</td>\n",
       "      <td>93234.882954078275</td>\n",
       "      <td>265638803.54284668</td>\n",
       "    </tr>\n",
       "    <tr>\n",
       "      <th>2</th>\n",
       "      <td>Katherine</td>\n",
       "      <td>Metro Office Building</td>\n",
       "      <td>Complete</td>\n",
       "      <td>36.153121</td>\n",
       "      <td>This body of work focuses on transitions in th...</td>\n",
       "      <td>mixed media on panel</td>\n",
       "      <td>-86.768797</td>\n",
       "      <td>Krebs</td>\n",
       "      <td>https://www.metroartsnashville.com/fullscreen-...</td>\n",
       "      <td>Divine Channel</td>\n",
       "      <td>POINT (-86.76880 36.15312)</td>\n",
       "      <td>47</td>\n",
       "      <td>37210</td>\n",
       "      <td>12</td>\n",
       "      <td>NASHVILLE</td>\n",
       "      <td>93234.882954078275</td>\n",
       "      <td>265638803.54284668</td>\n",
       "    </tr>\n",
       "    <tr>\n",
       "      <th>3</th>\n",
       "      <td>Wayne</td>\n",
       "      <td>21st Ave. and Broadway</td>\n",
       "      <td>Complete</td>\n",
       "      <td>36.148329</td>\n",
       "      <td>None</td>\n",
       "      <td>powder coated stainless steel, stainless steel...</td>\n",
       "      <td>-86.799705</td>\n",
       "      <td>Henderson</td>\n",
       "      <td>https://www.metroartsnashville.com/fullscreen-...</td>\n",
       "      <td>Good Eats</td>\n",
       "      <td>POINT (-86.79971 36.14833)</td>\n",
       "      <td>39</td>\n",
       "      <td>37240</td>\n",
       "      <td>36</td>\n",
       "      <td>NASHVILLE</td>\n",
       "      <td>7052.8091646713856</td>\n",
       "      <td>2841889.5506591797</td>\n",
       "    </tr>\n",
       "    <tr>\n",
       "      <th>4</th>\n",
       "      <td>Michael J.</td>\n",
       "      <td>Historic Metro Courthouse</td>\n",
       "      <td>Complete</td>\n",
       "      <td>36.166747</td>\n",
       "      <td>Created during a live painting exhibition, thi...</td>\n",
       "      <td>acrylic on canvas</td>\n",
       "      <td>-86.778286</td>\n",
       "      <td>McBride</td>\n",
       "      <td>https://www.metroartsnashville.com/fullscreen-...</td>\n",
       "      <td>Dancing  in the Streets of Music City</td>\n",
       "      <td>POINT (-86.77829 36.16675)</td>\n",
       "      <td>36</td>\n",
       "      <td>37201</td>\n",
       "      <td>14</td>\n",
       "      <td>NASHVILLE</td>\n",
       "      <td>25670.555742711778</td>\n",
       "      <td>11151362.94934082</td>\n",
       "    </tr>\n",
       "  </tbody>\n",
       "</table>\n",
       "</div>"
      ],
      "text/plain": [
       "   first_name                         location project_status   latitude  \\\n",
       "0        Seth  Shelby Street Pedestrian Bridge       Complete  36.164314   \n",
       "1         Ric        Richard H. Fulton Complex       Complete  36.153346   \n",
       "2   Katherine            Metro Office Building       Complete  36.153121   \n",
       "3       Wayne           21st Ave. and Broadway       Complete  36.148329   \n",
       "4  Michael J.        Historic Metro Courthouse       Complete  36.166747   \n",
       "\n",
       "                                         description  \\\n",
       "0                                               None   \n",
       "1                                               None   \n",
       "2  This body of work focuses on transitions in th...   \n",
       "3                                               None   \n",
       "4  Created during a live painting exhibition, thi...   \n",
       "\n",
       "                                              medium   longitude  last_name  \\\n",
       "0                                         tube steel   -86.76936     Conley   \n",
       "1                                powder coated steel  -86.768642      Howse   \n",
       "2                               mixed media on panel  -86.768797      Krebs   \n",
       "3  powder coated stainless steel, stainless steel...  -86.799705  Henderson   \n",
       "4                                  acrylic on canvas  -86.778286    McBride   \n",
       "\n",
       "                                           page_link  \\\n",
       "0  https://www.metroartsnashville.com/fullscreen-...   \n",
       "1  https://www.metroartsnashville.com/fullscreen-...   \n",
       "2  https://www.metroartsnashville.com/fullscreen-...   \n",
       "3  https://www.metroartsnashville.com/fullscreen-...   \n",
       "4  https://www.metroartsnashville.com/fullscreen-...   \n",
       "\n",
       "                                 artwork                    geometry  \\\n",
       "0                             The Riders  POINT (-86.76936 36.16431)   \n",
       "1                                  Banjo  POINT (-86.76864 36.15335)   \n",
       "2                         Divine Channel  POINT (-86.76880 36.15312)   \n",
       "3                              Good Eats  POINT (-86.79971 36.14833)   \n",
       "4  Dancing  in the Streets of Music City  POINT (-86.77829 36.16675)   \n",
       "\n",
       "   index_right    zip objectid    po_name      shape_stlength  \\\n",
       "0           31  37213        4  NASHVILLE  30678.541831175633   \n",
       "1           47  37210       12  NASHVILLE  93234.882954078275   \n",
       "2           47  37210       12  NASHVILLE  93234.882954078275   \n",
       "3           39  37240       36  NASHVILLE  7052.8091646713856   \n",
       "4           36  37201       14  NASHVILLE  25670.555742711778   \n",
       "\n",
       "         shape_starea  \n",
       "0  23392261.943359375  \n",
       "1  265638803.54284668  \n",
       "2  265638803.54284668  \n",
       "3  2841889.5506591797  \n",
       "4   11151362.94934082  "
      ]
     },
     "execution_count": 15,
     "metadata": {},
     "output_type": "execute_result"
    }
   ],
   "source": [
    "part_by_zip = gpd.sjoin(publicart, zipcodes, predicate = 'within')\n",
    "part_by_zip.head()"
   ]
  },
  {
   "cell_type": "code",
   "execution_count": 6,
   "id": "f7f30b22",
   "metadata": {},
   "outputs": [
    {
     "data": {
      "text/plain": [
       "<bound method IndexOpsMixin.value_counts of 0      37213\n",
       "1      37210\n",
       "2      37210\n",
       "3      37240\n",
       "4      37201\n",
       "       ...  \n",
       "172    37201\n",
       "173    37201\n",
       "174    37201\n",
       "175    37115\n",
       "176    37206\n",
       "Name: zip, Length: 174, dtype: object>"
      ]
     },
     "execution_count": 6,
     "metadata": {},
     "output_type": "execute_result"
    }
   ],
   "source": [
    "part_by_zip['zip'].value_counts"
   ]
  },
  {
   "cell_type": "code",
   "execution_count": 13,
   "id": "9f5768f6",
   "metadata": {},
   "outputs": [
    {
     "data": {
      "text/plain": [
       "(0, 17)"
      ]
     },
     "execution_count": 13,
     "metadata": {},
     "output_type": "execute_result"
    }
   ],
   "source": [
    "art_37203 = part_by_zip[part_by_zip['zip']==37203]\n",
    "art_37203.shape"
   ]
  },
  {
   "cell_type": "code",
   "execution_count": 10,
   "id": "1b2c20f6",
   "metadata": {},
   "outputs": [
    {
     "data": {
      "text/plain": [
       "(1, 6)"
      ]
     },
     "execution_count": 10,
     "metadata": {},
     "output_type": "execute_result"
    }
   ],
   "source": [
    "polygon37203 = zipcodes.loc[zipcodes['zip'] == '37203']\n",
    "polygon37203.shape"
   ]
  },
  {
   "cell_type": "code",
   "execution_count": 17,
   "id": "5a9a8d64",
   "metadata": {},
   "outputs": [
    {
     "ename": "ValueError",
     "evalue": "aspect must be finite and positive ",
     "output_type": "error",
     "traceback": [
      "\u001b[1;31m---------------------------------------------------------------------------\u001b[0m",
      "\u001b[1;31mValueError\u001b[0m                                Traceback (most recent call last)",
      "Cell \u001b[1;32mIn[17], line 2\u001b[0m\n\u001b[0;32m      1\u001b[0m ax \u001b[38;5;241m=\u001b[39m polygon37203\u001b[38;5;241m.\u001b[39mplot(figsize \u001b[38;5;241m=\u001b[39m (\u001b[38;5;241m8\u001b[39m, \u001b[38;5;241m12\u001b[39m), color \u001b[38;5;241m=\u001b[39m \u001b[38;5;124m'\u001b[39m\u001b[38;5;124mpurple\u001b[39m\u001b[38;5;124m'\u001b[39m)\n\u001b[1;32m----> 2\u001b[0m \u001b[43mart_37203\u001b[49m\u001b[38;5;241;43m.\u001b[39;49m\u001b[43mplot\u001b[49m\u001b[43m(\u001b[49m\u001b[43m \u001b[49m\u001b[43max\u001b[49m\u001b[43m \u001b[49m\u001b[38;5;241;43m=\u001b[39;49m\u001b[43m \u001b[49m\u001b[43max\u001b[49m\u001b[43m,\u001b[49m\u001b[43m \u001b[49m\u001b[43mcolumn\u001b[49m\u001b[43m \u001b[49m\u001b[38;5;241;43m=\u001b[39;49m\u001b[43m \u001b[49m\u001b[38;5;124;43m'\u001b[39;49m\u001b[38;5;124;43martwork\u001b[39;49m\u001b[38;5;124;43m'\u001b[39;49m\u001b[43m)\u001b[49m;\n\u001b[0;32m      3\u001b[0m plt\u001b[38;5;241m.\u001b[39mshow();\n",
      "File \u001b[1;32m~\\anaconda3\\envs\\geospatial\\lib\\site-packages\\geopandas\\plotting.py:968\u001b[0m, in \u001b[0;36mGeoplotAccessor.__call__\u001b[1;34m(self, *args, **kwargs)\u001b[0m\n\u001b[0;32m    966\u001b[0m kind \u001b[38;5;241m=\u001b[39m kwargs\u001b[38;5;241m.\u001b[39mpop(\u001b[38;5;124m\"\u001b[39m\u001b[38;5;124mkind\u001b[39m\u001b[38;5;124m\"\u001b[39m, \u001b[38;5;124m\"\u001b[39m\u001b[38;5;124mgeo\u001b[39m\u001b[38;5;124m\"\u001b[39m)\n\u001b[0;32m    967\u001b[0m \u001b[38;5;28;01mif\u001b[39;00m kind \u001b[38;5;241m==\u001b[39m \u001b[38;5;124m\"\u001b[39m\u001b[38;5;124mgeo\u001b[39m\u001b[38;5;124m\"\u001b[39m:\n\u001b[1;32m--> 968\u001b[0m     \u001b[38;5;28;01mreturn\u001b[39;00m plot_dataframe(data, \u001b[38;5;241m*\u001b[39margs, \u001b[38;5;241m*\u001b[39m\u001b[38;5;241m*\u001b[39mkwargs)\n\u001b[0;32m    969\u001b[0m \u001b[38;5;28;01mif\u001b[39;00m kind \u001b[38;5;129;01min\u001b[39;00m \u001b[38;5;28mself\u001b[39m\u001b[38;5;241m.\u001b[39m_pandas_kinds:\n\u001b[0;32m    970\u001b[0m     \u001b[38;5;66;03m# Access pandas plots\u001b[39;00m\n\u001b[0;32m    971\u001b[0m     \u001b[38;5;28;01mreturn\u001b[39;00m PlotAccessor(data)(kind\u001b[38;5;241m=\u001b[39mkind, \u001b[38;5;241m*\u001b[39m\u001b[38;5;241m*\u001b[39mkwargs)\n",
      "File \u001b[1;32m~\\anaconda3\\envs\\geospatial\\lib\\site-packages\\geopandas\\plotting.py:679\u001b[0m, in \u001b[0;36mplot_dataframe\u001b[1;34m(df, column, cmap, color, ax, cax, categorical, legend, scheme, k, vmin, vmax, markersize, figsize, legend_kwds, categories, classification_kwds, missing_kwds, aspect, **style_kwds)\u001b[0m\n\u001b[0;32m    677\u001b[0m     bounds \u001b[38;5;241m=\u001b[39m df\u001b[38;5;241m.\u001b[39mtotal_bounds\n\u001b[0;32m    678\u001b[0m     y_coord \u001b[38;5;241m=\u001b[39m np\u001b[38;5;241m.\u001b[39mmean([bounds[\u001b[38;5;241m1\u001b[39m], bounds[\u001b[38;5;241m3\u001b[39m]])\n\u001b[1;32m--> 679\u001b[0m     \u001b[43max\u001b[49m\u001b[38;5;241;43m.\u001b[39;49m\u001b[43mset_aspect\u001b[49m\u001b[43m(\u001b[49m\u001b[38;5;241;43m1\u001b[39;49m\u001b[43m \u001b[49m\u001b[38;5;241;43m/\u001b[39;49m\u001b[43m \u001b[49m\u001b[43mnp\u001b[49m\u001b[38;5;241;43m.\u001b[39;49m\u001b[43mcos\u001b[49m\u001b[43m(\u001b[49m\u001b[43my_coord\u001b[49m\u001b[43m \u001b[49m\u001b[38;5;241;43m*\u001b[39;49m\u001b[43m \u001b[49m\u001b[43mnp\u001b[49m\u001b[38;5;241;43m.\u001b[39;49m\u001b[43mpi\u001b[49m\u001b[43m \u001b[49m\u001b[38;5;241;43m/\u001b[39;49m\u001b[43m \u001b[49m\u001b[38;5;241;43m180\u001b[39;49m\u001b[43m)\u001b[49m\u001b[43m)\u001b[49m\n\u001b[0;32m    680\u001b[0m     \u001b[38;5;66;03m# formula ported from R package sp\u001b[39;00m\n\u001b[0;32m    681\u001b[0m     \u001b[38;5;66;03m# https://github.com/edzer/sp/blob/master/R/mapasp.R\u001b[39;00m\n\u001b[0;32m    682\u001b[0m \u001b[38;5;28;01melse\u001b[39;00m:\n\u001b[0;32m    683\u001b[0m     ax\u001b[38;5;241m.\u001b[39mset_aspect(\u001b[38;5;124m\"\u001b[39m\u001b[38;5;124mequal\u001b[39m\u001b[38;5;124m\"\u001b[39m)\n",
      "File \u001b[1;32m~\\anaconda3\\envs\\geospatial\\lib\\site-packages\\matplotlib\\axes\\_base.py:1664\u001b[0m, in \u001b[0;36m_AxesBase.set_aspect\u001b[1;34m(self, aspect, adjustable, anchor, share)\u001b[0m\n\u001b[0;32m   1662\u001b[0m     aspect \u001b[38;5;241m=\u001b[39m \u001b[38;5;28mfloat\u001b[39m(aspect)  \u001b[38;5;66;03m# raise ValueError if necessary\u001b[39;00m\n\u001b[0;32m   1663\u001b[0m     \u001b[38;5;28;01mif\u001b[39;00m aspect \u001b[38;5;241m<\u001b[39m\u001b[38;5;241m=\u001b[39m \u001b[38;5;241m0\u001b[39m \u001b[38;5;129;01mor\u001b[39;00m \u001b[38;5;129;01mnot\u001b[39;00m np\u001b[38;5;241m.\u001b[39misfinite(aspect):\n\u001b[1;32m-> 1664\u001b[0m         \u001b[38;5;28;01mraise\u001b[39;00m \u001b[38;5;167;01mValueError\u001b[39;00m(\u001b[38;5;124m\"\u001b[39m\u001b[38;5;124maspect must be finite and positive \u001b[39m\u001b[38;5;124m\"\u001b[39m)\n\u001b[0;32m   1666\u001b[0m \u001b[38;5;28;01mif\u001b[39;00m share:\n\u001b[0;32m   1667\u001b[0m     axes \u001b[38;5;241m=\u001b[39m {sibling \u001b[38;5;28;01mfor\u001b[39;00m name \u001b[38;5;129;01min\u001b[39;00m \u001b[38;5;28mself\u001b[39m\u001b[38;5;241m.\u001b[39m_axis_names\n\u001b[0;32m   1668\u001b[0m             \u001b[38;5;28;01mfor\u001b[39;00m sibling \u001b[38;5;129;01min\u001b[39;00m \u001b[38;5;28mself\u001b[39m\u001b[38;5;241m.\u001b[39m_shared_axes[name]\u001b[38;5;241m.\u001b[39mget_siblings(\u001b[38;5;28mself\u001b[39m)}\n",
      "\u001b[1;31mValueError\u001b[0m: aspect must be finite and positive "
     ]
    },
    {
     "data": {
      "image/png": "[encoded data removed]",
      "text/plain": [
       "<Figure size 800x1200 with 1 Axes>"
      ]
     },
     "metadata": {},
     "output_type": "display_data"
    }
   ],
   "source": [
    "ax = polygon37203.plot(figsize = (8, 12), color = 'purple')\n",
    "art_37203.plot( ax = ax, column = 'artwork');\n",
    "plt.show();"
   ]
  },
  {
   "cell_type": "code",
   "execution_count": null,
   "id": "ca3a51e0",
   "metadata": {},
   "outputs": [],
   "source": []
  },
  {
   "cell_type": "code",
   "execution_count": null,
   "id": "2554767c",
   "metadata": {},
   "outputs": [],
   "source": []
  },
  {
   "cell_type": "code",
   "execution_count": null,
   "id": "7e401c09",
   "metadata": {},
   "outputs": [],
   "source": []
  }
 ],
 "metadata": {
  "kernelspec": {
   "display_name": "Python [conda env:geospatial]",
   "language": "python",
   "name": "conda-env-geospatial-py"
  },
  "language_info": {
   "codemirror_mode": {
    "name": "ipython",
    "version": 3
   },
   "file_extension": ".py",
   "mimetype": "text/x-python",
   "name": "python",
   "nbconvert_exporter": "python",
   "pygments_lexer": "ipython3",
   "version": "3.10.14"
  }
 },
 "nbformat": 4,
 "nbformat_minor": 5
}
